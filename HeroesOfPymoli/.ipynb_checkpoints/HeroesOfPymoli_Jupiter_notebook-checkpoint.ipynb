{
 "cells": [
  {
   "cell_type": "markdown",
   "metadata": {},
   "source": [
    "# Heroes of Pymoli Analysis"
   ]
  },
  {
   "cell_type": "code",
   "execution_count": 2,
   "metadata": {},
   "outputs": [],
   "source": [
    "# Dependencies\n",
    "import pandas as pd"
   ]
  },
  {
   "cell_type": "code",
   "execution_count": 3,
   "metadata": {},
   "outputs": [],
   "source": [
    "# Read data to pandas DF\n",
    "income_file = \"Resources/purchase_data.csv\"\n",
    "original_purchase_df = pd.read_csv(income_file)"
   ]
  },
  {
   "cell_type": "markdown",
   "metadata": {},
   "source": [
    "## Total Number of Players"
   ]
  },
  {
   "cell_type": "code",
   "execution_count": 4,
   "metadata": {},
   "outputs": [
    {
     "name": "stdout",
     "output_type": "stream",
     "text": [
      "Number of total players is  576\n"
     ]
    }
   ],
   "source": [
    "# Get a number of total players\n",
    "total_players = len(original_purchase_df[\"SN\"].unique())\n",
    "print('Number of total players is ', total_players)"
   ]
  },
  {
   "cell_type": "markdown",
   "metadata": {},
   "source": [
    "## Total Purchasing Analysis \n",
    "\n",
    "**ToDo**\n",
    "* Find a total number of unique items \n",
    "* Find an average purchase price per item\n",
    "* Find a total number of purchases that were made\n",
    "* Find a total amount of revenue"
   ]
  },
  {
   "cell_type": "markdown",
   "metadata": {},
   "source": [
    "#### Total number of unique items"
   ]
  },
  {
   "cell_type": "code",
   "execution_count": 9,
   "metadata": {},
   "outputs": [
    {
     "name": "stdout",
     "output_type": "stream",
     "text": [
      "Total number of unique items available for purchase: 179\n"
     ]
    }
   ],
   "source": [
    "number_of_unique_items = len(original_purchase_df[\"Item ID\"].unique())\n",
    "print(f'Total number of unique items available for purchase: {number_of_unique_items}')"
   ]
  },
  {
   "cell_type": "markdown",
   "metadata": {},
   "source": [
    "#### Average purchase price per item"
   ]
  },
  {
   "cell_type": "code",
   "execution_count": 10,
   "metadata": {},
   "outputs": [
    {
     "name": "stdout",
     "output_type": "stream",
     "text": [
      "Average price per item: $3.05\n"
     ]
    }
   ],
   "source": [
    "avg_item_price = round(original_purchase_df[\"Price\"].mean(), 2)\n",
    "print(f'Average price per item: ${avg_item_price}')"
   ]
  },
  {
   "cell_type": "markdown",
   "metadata": {},
   "source": [
    "#### Total number of purchase were made"
   ]
  },
  {
   "cell_type": "code",
   "execution_count": 11,
   "metadata": {},
   "outputs": [
    {
     "name": "stdout",
     "output_type": "stream",
     "text": [
      "Total number of items were purchased: 780\n"
     ]
    }
   ],
   "source": [
    "total_purchases = original_purchase_df[\"Purchase ID\"].count()\n",
    "print(f'Total number of items were purchased: {total_purchases}')"
   ]
  },
  {
   "cell_type": "markdown",
   "metadata": {},
   "source": [
    "#### Total revenue amount"
   ]
  },
  {
   "cell_type": "code",
   "execution_count": 12,
   "metadata": {},
   "outputs": [
    {
     "name": "stdout",
     "output_type": "stream",
     "text": [
      "Total revenue amount: $2379.77\n"
     ]
    }
   ],
   "source": [
    "total_revenue = original_purchase_df[\"Price\"].sum()\n",
    "print(f'Total revenue amount: ${total_revenue}')"
   ]
  },
  {
   "cell_type": "markdown",
   "metadata": {},
   "source": [
    "#### Summary DF"
   ]
  },
  {
   "cell_type": "code",
   "execution_count": 15,
   "metadata": {},
   "outputs": [
    {
     "data": {
      "text/html": [
       "<div>\n",
       "<style scoped>\n",
       "    .dataframe tbody tr th:only-of-type {\n",
       "        vertical-align: middle;\n",
       "    }\n",
       "\n",
       "    .dataframe tbody tr th {\n",
       "        vertical-align: top;\n",
       "    }\n",
       "\n",
       "    .dataframe thead th {\n",
       "        text-align: right;\n",
       "    }\n",
       "</style>\n",
       "<table border=\"1\" class=\"dataframe\">\n",
       "  <thead>\n",
       "    <tr style=\"text-align: right;\">\n",
       "      <th></th>\n",
       "      <th>Number of Unique Items</th>\n",
       "      <th>Average Price</th>\n",
       "      <th>Amount of Purchases</th>\n",
       "      <th>Total Revenue</th>\n",
       "    </tr>\n",
       "  </thead>\n",
       "  <tbody>\n",
       "    <tr>\n",
       "      <th>0</th>\n",
       "      <td>179</td>\n",
       "      <td>$3.05</td>\n",
       "      <td>780</td>\n",
       "      <td>$2,379.77</td>\n",
       "    </tr>\n",
       "  </tbody>\n",
       "</table>\n",
       "</div>"
      ],
      "text/plain": [
       "   Number of Unique Items Average Price  Amount of Purchases Total Revenue\n",
       "0                     179         $3.05                  780     $2,379.77"
      ]
     },
     "execution_count": 15,
     "metadata": {},
     "output_type": "execute_result"
    }
   ],
   "source": [
    "summary_purchase_df = pd.DataFrame({\"Number of Unique Items\": number_of_unique_items\n",
    "                                   ,\"Average Price\": f'${avg_item_price}'\n",
    "                                   ,\"Amount of Purchases\": total_purchases\n",
    "                                   , \"Total Revenue\": '${:,}'.format(total_revenue)}, index=[0])\n",
    "summary_purchase_df"
   ]
  },
  {
   "cell_type": "markdown",
   "metadata": {},
   "source": [
    "## Gender Demographics Analysis\n",
    "\n",
    "**ToDo**\n",
    "* Find percentage and count of male players\n",
    "* Find percentage and count of female players\n",
    "* Find percentage and count of other / non-disclosed"
   ]
  },
  {
   "cell_type": "code",
   "execution_count": 17,
   "metadata": {},
   "outputs": [],
   "source": [
    "# group unique players by gender\n",
    "players_by_gender = original_purchase_df.groupby([\"Gender\"])[\"SN\"].unique()"
   ]
  },
  {
   "cell_type": "markdown",
   "metadata": {},
   "source": [
    "#### Count of Male, Female and Other/non-disclosed players"
   ]
  },
  {
   "cell_type": "code",
   "execution_count": 18,
   "metadata": {},
   "outputs": [
    {
     "name": "stdout",
     "output_type": "stream",
     "text": [
      "Count of Male Players: 484\n",
      "Count of Female Players: 81\n",
      "Count of Other / Non-Disclosed: 11\n"
     ]
    }
   ],
   "source": [
    "count_male_players = len(players_by_gender[\"Male\"])\n",
    "count_female_players = len(players_by_gender[\"Female\"])\n",
    "count_other_players = len(players_by_gender[\"Other / Non-Disclosed\"])\n",
    "\n",
    "print(f'Count of Male Players: {count_male_players}')\n",
    "print(f'Count of Female Players: {count_female_players}')\n",
    "print(f'Count of Other / Non-Disclosed: {count_other_players}')"
   ]
  },
  {
   "cell_type": "markdown",
   "metadata": {},
   "source": [
    "#### Percent of Male, Female and Other/non-disclosed players"
   ]
  },
  {
   "cell_type": "code",
   "execution_count": 19,
   "metadata": {},
   "outputs": [
    {
     "name": "stdout",
     "output_type": "stream",
     "text": [
      "Percent of Male Players: 84.03%\n",
      "Percent of Female Players: 14.06%\n",
      "Percent of Other / Non-Disclosed: 1.91%\n"
     ]
    }
   ],
   "source": [
    "percent_male_players = round((count_male_players / total_players) * 100, 2)\n",
    "percent_female_players = round((count_female_players / total_players) * 100, 2)\n",
    "percent_other_players = round((count_other_players / total_players) * 100, 2)\n",
    "\n",
    "print(f'Percent of Male Players: {percent_male_players}%')\n",
    "print(f'Percent of Female Players: {percent_female_players}%')\n",
    "print(f'Percent of Other / Non-Disclosed: {percent_other_players}%')"
   ]
  },
  {
   "cell_type": "markdown",
   "metadata": {},
   "source": [
    "#### Summary Gender Demographics DF"
   ]
  },
  {
   "cell_type": "code",
   "execution_count": 21,
   "metadata": {},
   "outputs": [
    {
     "data": {
      "text/html": [
       "<div>\n",
       "<style scoped>\n",
       "    .dataframe tbody tr th:only-of-type {\n",
       "        vertical-align: middle;\n",
       "    }\n",
       "\n",
       "    .dataframe tbody tr th {\n",
       "        vertical-align: top;\n",
       "    }\n",
       "\n",
       "    .dataframe thead th {\n",
       "        text-align: right;\n",
       "    }\n",
       "</style>\n",
       "<table border=\"1\" class=\"dataframe\">\n",
       "  <thead>\n",
       "    <tr style=\"text-align: right;\">\n",
       "      <th></th>\n",
       "      <th>Count of Players</th>\n",
       "      <th>Percent of Players</th>\n",
       "    </tr>\n",
       "  </thead>\n",
       "  <tbody>\n",
       "    <tr>\n",
       "      <th>Male</th>\n",
       "      <td>484</td>\n",
       "      <td>84.03%</td>\n",
       "    </tr>\n",
       "    <tr>\n",
       "      <th>Female</th>\n",
       "      <td>81</td>\n",
       "      <td>14.06%</td>\n",
       "    </tr>\n",
       "    <tr>\n",
       "      <th>Other/Non-Disclosed</th>\n",
       "      <td>11</td>\n",
       "      <td>1.91%</td>\n",
       "    </tr>\n",
       "  </tbody>\n",
       "</table>\n",
       "</div>"
      ],
      "text/plain": [
       "                     Count of Players Percent of Players\n",
       "Male                              484             84.03%\n",
       "Female                             81             14.06%\n",
       "Other/Non-Disclosed                11              1.91%"
      ]
     },
     "execution_count": 21,
     "metadata": {},
     "output_type": "execute_result"
    }
   ],
   "source": [
    "gender_demographics_df = pd.DataFrame({\"Count of Players\": [count_male_players\n",
    "                                                            ,count_female_players\n",
    "                                                            ,count_other_players]\n",
    "                                      ,\"Percent of Players\": [f'{percent_male_players}%'\n",
    "                                                              ,f'{percent_female_players}%'\n",
    "                                                              ,f'{percent_other_players}%']}\n",
    "                                      , index=[\"Male\", \"Female\", \"Other/Non-Disclosed\"])\n",
    "\n",
    "gender_demographics_df"
   ]
  },
  {
   "cell_type": "markdown",
   "metadata": {},
   "source": [
    "#### Pie Chart for Gender Demographics Distribution "
   ]
  },
  {
   "cell_type": "code",
   "execution_count": 36,
   "metadata": {},
   "outputs": [
    {
     "data": {
      "image/png": "[encoded data removed]",
      "text/plain": [
       "<Figure size 432x288 with 1 Axes>"
      ]
     },
     "metadata": {},
     "output_type": "display_data"
    }
   ],
   "source": [
    "plot = gender_demographics_df.plot.pie(y = \"Count of Players\")"
   ]
  },
  {
   "cell_type": "markdown",
   "metadata": {},
   "source": [
    "## Purchasing Analysis (Gender)\n",
    "\n",
    "The below each should be broken by gender:\n",
    "\n",
    "* Purchase Count\n",
    "* Average Purchase Price\n",
    "* Total Purchase Value\n",
    "* Average Purchase Total per Person by Gender"
   ]
  },
  {
   "cell_type": "code",
   "execution_count": 7,
   "metadata": {},
   "outputs": [
    {
     "data": {
      "text/html": [
       "<div>\n",
       "<style scoped>\n",
       "    .dataframe tbody tr th:only-of-type {\n",
       "        vertical-align: middle;\n",
       "    }\n",
       "\n",
       "    .dataframe tbody tr th {\n",
       "        vertical-align: top;\n",
       "    }\n",
       "\n",
       "    .dataframe thead th {\n",
       "        text-align: right;\n",
       "    }\n",
       "</style>\n",
       "<table border=\"1\" class=\"dataframe\">\n",
       "  <thead>\n",
       "    <tr style=\"text-align: right;\">\n",
       "      <th></th>\n",
       "      <th>Purchase count</th>\n",
       "      <th>Avg Purchase Price</th>\n",
       "      <th>Total Purchase Value</th>\n",
       "      <th>Avg Total Purchase per Person</th>\n",
       "    </tr>\n",
       "  </thead>\n",
       "  <tbody>\n",
       "    <tr>\n",
       "      <th>Female</th>\n",
       "      <td>113</td>\n",
       "      <td>$ 3.2</td>\n",
       "      <td>$ 361.94</td>\n",
       "      <td>$ 4.47</td>\n",
       "    </tr>\n",
       "    <tr>\n",
       "      <th>Male</th>\n",
       "      <td>652</td>\n",
       "      <td>$ 3.02</td>\n",
       "      <td>$ 1,967.64</td>\n",
       "      <td>$ 4.07</td>\n",
       "    </tr>\n",
       "    <tr>\n",
       "      <th>Other / Non-Disclosed</th>\n",
       "      <td>15</td>\n",
       "      <td>$ 3.35</td>\n",
       "      <td>$ 50.19</td>\n",
       "      <td>$ 4.56</td>\n",
       "    </tr>\n",
       "  </tbody>\n",
       "</table>\n",
       "</div>"
      ],
      "text/plain": [
       "                       Purchase count Avg Purchase Price Total Purchase Value  \\\n",
       "Female                            113              $ 3.2             $ 361.94   \n",
       "Male                              652             $ 3.02           $ 1,967.64   \n",
       "Other / Non-Disclosed              15             $ 3.35              $ 50.19   \n",
       "\n",
       "                      Avg Total Purchase per Person  \n",
       "Female                                       $ 4.47  \n",
       "Male                                         $ 4.07  \n",
       "Other / Non-Disclosed                        $ 4.56  "
      ]
     },
     "execution_count": 7,
     "metadata": {},
     "output_type": "execute_result"
    }
   ],
   "source": [
    "#Purchase Count\n",
    "purchase_count_by_gender = original_purchase_df.groupby(['Gender'])[\"Purchase ID\"].count()\n",
    "\n",
    "#Average Purchase Price\n",
    "avg_purchase_price_by_gender = round(original_purchase_df.groupby(['Gender'])['Price'].mean(), 2)\n",
    "\n",
    "#Total Purchase Value\n",
    "total_purchase_value_by_gender = round(original_purchase_df.groupby(['Gender'])['Price'].sum(), 2)\n",
    "\n",
    "#Average Purchase Total per Person by Gender\n",
    "# Male\n",
    "avg_purchase_per_person_by_male = round(total_purchase_value_by_gender['Male']/count_male_players, 2)\n",
    "\n",
    "# Female\n",
    "avg_purchase_per_person_by_female = round(total_purchase_value_by_gender['Female']/count_female_players, 2)\n",
    "# Other\n",
    "avg_purchase_per_person_by_other = round(total_purchase_value_by_gender['Other / Non-Disclosed']/count_other_players, 2)\n",
    "\n",
    "avg_purchase_per_person = pd.Series({'Male': avg_purchase_per_person_by_male\n",
    "                                     ,'Female': avg_purchase_per_person_by_female\n",
    "                                     ,'Other / Non-Disclosed': avg_purchase_per_person_by_other})\n",
    "#Store\n",
    "\n",
    "gender_purchasing_analysis_df = pd.DataFrame({'Purchase count': purchase_count_by_gender\n",
    "                                               ,'Avg Purchase Price': avg_purchase_price_by_gender\n",
    "                                               ,'Total Purchase Value': total_purchase_value_by_gender\n",
    "                                               ,'Avg Total Purchase per Person': avg_purchase_per_person})\n",
    "\n",
    "for col in gender_purchasing_analysis_df.columns:\n",
    "    if col != 'Purchase count':\n",
    "        gender_purchasing_analysis_df[col] = gender_purchasing_analysis_df[col].map(\"${: ,}\".format)\n",
    "\n",
    "gender_purchasing_analysis_df\n"
   ]
  },
  {
   "cell_type": "markdown",
   "metadata": {},
   "source": [
    "## Age Demographics\n",
    "\n",
    "The below each broken into bins of 4 years (i.e. <10, 10-14, 15-19, etc.):\n",
    "\n",
    "* Total player count\n",
    "* Percentage of players"
   ]
  },
  {
   "cell_type": "code",
   "execution_count": 8,
   "metadata": {},
   "outputs": [
    {
     "data": {
      "text/plain": [
       "45"
      ]
     },
     "execution_count": 8,
     "metadata": {},
     "output_type": "execute_result"
    }
   ],
   "source": [
    "# check what is max age to define bins and group names\n",
    "original_purchase_df['Age'].max()"
   ]
  },
  {
   "cell_type": "code",
   "execution_count": 9,
   "metadata": {},
   "outputs": [
    {
     "data": {
      "text/plain": [
       "7"
      ]
     },
     "execution_count": 9,
     "metadata": {},
     "output_type": "execute_result"
    }
   ],
   "source": [
    "# check what is min age to define bins and group names\n",
    "original_purchase_df['Age'].min()"
   ]
  },
  {
   "cell_type": "code",
   "execution_count": 10,
   "metadata": {},
   "outputs": [
    {
     "data": {
      "text/html": [
       "<div>\n",
       "<style scoped>\n",
       "    .dataframe tbody tr th:only-of-type {\n",
       "        vertical-align: middle;\n",
       "    }\n",
       "\n",
       "    .dataframe tbody tr th {\n",
       "        vertical-align: top;\n",
       "    }\n",
       "\n",
       "    .dataframe thead th {\n",
       "        text-align: right;\n",
       "    }\n",
       "</style>\n",
       "<table border=\"1\" class=\"dataframe\">\n",
       "  <thead>\n",
       "    <tr style=\"text-align: right;\">\n",
       "      <th></th>\n",
       "      <th>Total Count</th>\n",
       "      <th>Percentage of Players</th>\n",
       "    </tr>\n",
       "  </thead>\n",
       "  <tbody>\n",
       "    <tr>\n",
       "      <th>&lt;10</th>\n",
       "      <td>17</td>\n",
       "      <td>2.95 %</td>\n",
       "    </tr>\n",
       "    <tr>\n",
       "      <th>10 - 14</th>\n",
       "      <td>22</td>\n",
       "      <td>3.82 %</td>\n",
       "    </tr>\n",
       "    <tr>\n",
       "      <th>15 - 19</th>\n",
       "      <td>107</td>\n",
       "      <td>18.58 %</td>\n",
       "    </tr>\n",
       "    <tr>\n",
       "      <th>20 - 24</th>\n",
       "      <td>258</td>\n",
       "      <td>44.79 %</td>\n",
       "    </tr>\n",
       "    <tr>\n",
       "      <th>25 - 29</th>\n",
       "      <td>77</td>\n",
       "      <td>13.37 %</td>\n",
       "    </tr>\n",
       "    <tr>\n",
       "      <th>30 - 34</th>\n",
       "      <td>52</td>\n",
       "      <td>9.03 %</td>\n",
       "    </tr>\n",
       "    <tr>\n",
       "      <th>35 - 40</th>\n",
       "      <td>31</td>\n",
       "      <td>5.38 %</td>\n",
       "    </tr>\n",
       "    <tr>\n",
       "      <th>40+</th>\n",
       "      <td>12</td>\n",
       "      <td>2.08 %</td>\n",
       "    </tr>\n",
       "  </tbody>\n",
       "</table>\n",
       "</div>"
      ],
      "text/plain": [
       "         Total Count Percentage of Players\n",
       "<10               17                2.95 %\n",
       "10 - 14           22                3.82 %\n",
       "15 - 19          107               18.58 %\n",
       "20 - 24          258               44.79 %\n",
       "25 - 29           77               13.37 %\n",
       "30 - 34           52                9.03 %\n",
       "35 - 40           31                5.38 %\n",
       "40+               12                2.08 %"
      ]
     },
     "execution_count": 10,
     "metadata": {},
     "output_type": "execute_result"
    }
   ],
   "source": [
    "# create bins and name for age groups\n",
    "bins = [0, 9, 14, 19,  24, 29, 34, 39, 46]\n",
    "group_names = [\"<10\", \"10 - 14\", \"15 - 19\", \"20 - 24\", \"25 - 29\", \"30 - 34\", \"35 - 40\", \"40+\"]\n",
    "\n",
    "# Copy original df to a new one \n",
    "age_demog_df = original_purchase_df.copy()\n",
    "\n",
    "# cut data by age and put label (group name) to new column according the bins\n",
    "age_demog_df['Age Ranges'] = pd.cut(age_demog_df['Age'], bins, labels=group_names, include_lowest=True)\n",
    "\n",
    "# find all players \n",
    "unique_players_by_age = age_demog_df.groupby('Age Ranges')['SN'].unique()\n",
    "total_count = []\n",
    "percentage_of_players = []\n",
    "# find how many players and their percentage for each age group\n",
    "for gr_nm in group_names:\n",
    "    players = len(unique_players_by_age[gr_nm])\n",
    "    total_count.append(players)\n",
    "    percentage_of_players.append((round((players / total_players) * 100, 2)))\n",
    "\n",
    "# create final df    \n",
    "summary_age_demog_df = pd.DataFrame({\"Total Count\": total_count\n",
    "                                     ,\"Percentage of Players\": percentage_of_players}\n",
    "                                    , index=group_names)\n",
    "\n",
    "summary_age_demog_df[\"Percentage of Players\"] = summary_age_demog_df[\"Percentage of Players\"].map(\"{: .2f} %\".format)\n",
    "summary_age_demog_df"
   ]
  },
  {
   "cell_type": "markdown",
   "metadata": {},
   "source": [
    "## Age Demographics (purchase)\n",
    "\n",
    "The below each broken into bins of 4 years (i.e. <10, 10-14, 15-19, etc.):\n",
    "\n",
    "* Purchase Count\n",
    "* Average Purchase Price\n",
    "* Total Purchase Value\n",
    "* Average Purchase Total per Person by Age Group"
   ]
  },
  {
   "cell_type": "code",
   "execution_count": 11,
   "metadata": {},
   "outputs": [
    {
     "data": {
      "text/html": [
       "<div>\n",
       "<style scoped>\n",
       "    .dataframe tbody tr th:only-of-type {\n",
       "        vertical-align: middle;\n",
       "    }\n",
       "\n",
       "    .dataframe tbody tr th {\n",
       "        vertical-align: top;\n",
       "    }\n",
       "\n",
       "    .dataframe thead th {\n",
       "        text-align: right;\n",
       "    }\n",
       "</style>\n",
       "<table border=\"1\" class=\"dataframe\">\n",
       "  <thead>\n",
       "    <tr style=\"text-align: right;\">\n",
       "      <th></th>\n",
       "      <th>Purchase Count</th>\n",
       "      <th>Avg Purchase Price</th>\n",
       "      <th>Total Purchase Value</th>\n",
       "      <th>Avg Total Purchase per Person</th>\n",
       "    </tr>\n",
       "    <tr>\n",
       "      <th>Age Ranges</th>\n",
       "      <th></th>\n",
       "      <th></th>\n",
       "      <th></th>\n",
       "      <th></th>\n",
       "    </tr>\n",
       "  </thead>\n",
       "  <tbody>\n",
       "    <tr>\n",
       "      <th>&lt;10</th>\n",
       "      <td>23</td>\n",
       "      <td>$ 3.35</td>\n",
       "      <td>$ 77.13</td>\n",
       "      <td>$ 4.54</td>\n",
       "    </tr>\n",
       "    <tr>\n",
       "      <th>10 - 14</th>\n",
       "      <td>28</td>\n",
       "      <td>$ 2.96</td>\n",
       "      <td>$ 82.78</td>\n",
       "      <td>$ 3.76</td>\n",
       "    </tr>\n",
       "    <tr>\n",
       "      <th>15 - 19</th>\n",
       "      <td>136</td>\n",
       "      <td>$ 3.04</td>\n",
       "      <td>$ 412.89</td>\n",
       "      <td>$ 3.86</td>\n",
       "    </tr>\n",
       "    <tr>\n",
       "      <th>20 - 24</th>\n",
       "      <td>365</td>\n",
       "      <td>$ 3.05</td>\n",
       "      <td>$ 1,114.06</td>\n",
       "      <td>$ 4.32</td>\n",
       "    </tr>\n",
       "    <tr>\n",
       "      <th>25 - 29</th>\n",
       "      <td>101</td>\n",
       "      <td>$ 2.9</td>\n",
       "      <td>$ 293.0</td>\n",
       "      <td>$ 3.81</td>\n",
       "    </tr>\n",
       "    <tr>\n",
       "      <th>30 - 34</th>\n",
       "      <td>73</td>\n",
       "      <td>$ 2.93</td>\n",
       "      <td>$ 214.0</td>\n",
       "      <td>$ 4.12</td>\n",
       "    </tr>\n",
       "    <tr>\n",
       "      <th>35 - 40</th>\n",
       "      <td>41</td>\n",
       "      <td>$ 3.6</td>\n",
       "      <td>$ 147.67</td>\n",
       "      <td>$ 4.76</td>\n",
       "    </tr>\n",
       "    <tr>\n",
       "      <th>40+</th>\n",
       "      <td>13</td>\n",
       "      <td>$ 2.94</td>\n",
       "      <td>$ 38.24</td>\n",
       "      <td>$ 3.19</td>\n",
       "    </tr>\n",
       "  </tbody>\n",
       "</table>\n",
       "</div>"
      ],
      "text/plain": [
       "            Purchase Count Avg Purchase Price Total Purchase Value  \\\n",
       "Age Ranges                                                           \n",
       "<10                     23             $ 3.35              $ 77.13   \n",
       "10 - 14                 28             $ 2.96              $ 82.78   \n",
       "15 - 19                136             $ 3.04             $ 412.89   \n",
       "20 - 24                365             $ 3.05           $ 1,114.06   \n",
       "25 - 29                101              $ 2.9              $ 293.0   \n",
       "30 - 34                 73             $ 2.93              $ 214.0   \n",
       "35 - 40                 41              $ 3.6             $ 147.67   \n",
       "40+                     13             $ 2.94              $ 38.24   \n",
       "\n",
       "           Avg Total Purchase per Person  \n",
       "Age Ranges                                \n",
       "<10                               $ 4.54  \n",
       "10 - 14                           $ 3.76  \n",
       "15 - 19                           $ 3.86  \n",
       "20 - 24                           $ 4.32  \n",
       "25 - 29                           $ 3.81  \n",
       "30 - 34                           $ 4.12  \n",
       "35 - 40                           $ 4.76  \n",
       "40+                               $ 3.19  "
      ]
     },
     "execution_count": 11,
     "metadata": {},
     "output_type": "execute_result"
    }
   ],
   "source": [
    "# Purchase count for each age group\n",
    "age_purchase_count = age_demog_df.groupby('Age Ranges')['Purchase ID'].count()\n",
    "age_purchase_count\n",
    "\n",
    "# Average purchase price for each age group\n",
    "age_avg_purchase_price = round(age_demog_df.groupby('Age Ranges')['Price'].mean(), 2)\n",
    "age_avg_purchase_price\n",
    "\n",
    "# Total purchase value for each age group\n",
    "age_total_purchase_value = round(age_demog_df.groupby('Age Ranges')['Price'].sum(), 2)\n",
    "age_total_purchase_value\n",
    "\n",
    "# Average total purchase value per person for each age group\n",
    "age_avg_total_purchase_per_person = round(age_total_purchase_value / total_count, 2)\n",
    "age_avg_total_purchase_per_person\n",
    "\n",
    "# final df\n",
    "summary_age_purchasing_analysis_df = pd.DataFrame({'Purchase Count': age_purchase_count\n",
    "                                                   ,'Avg Purchase Price': age_avg_purchase_price\n",
    "                                                   ,'Total Purchase Value': age_total_purchase_value\n",
    "                                                   ,'Avg Total Purchase per Person': age_avg_total_purchase_per_person})\n",
    "\n",
    "for col in summary_age_purchasing_analysis_df.columns:\n",
    "    if col != 'Purchase Count':\n",
    "        summary_age_purchasing_analysis_df[col] = summary_age_purchasing_analysis_df[col].map(\"${: ,}\".format)\n",
    "\n",
    "summary_age_purchasing_analysis_df\n"
   ]
  },
  {
   "cell_type": "markdown",
   "metadata": {},
   "source": [
    "## Top Spenders\n",
    "\n",
    "Identify the the top 5 spenders in the game by total purchase value, then list (in a table):\n",
    "\n",
    "* SN\n",
    "* Purchase Count\n",
    "* Average Purchase Price\n",
    "* Total Purchase Value"
   ]
  },
  {
   "cell_type": "code",
   "execution_count": 12,
   "metadata": {},
   "outputs": [
    {
     "data": {
      "text/html": [
       "<div>\n",
       "<style scoped>\n",
       "    .dataframe tbody tr th:only-of-type {\n",
       "        vertical-align: middle;\n",
       "    }\n",
       "\n",
       "    .dataframe tbody tr th {\n",
       "        vertical-align: top;\n",
       "    }\n",
       "\n",
       "    .dataframe thead th {\n",
       "        text-align: right;\n",
       "    }\n",
       "</style>\n",
       "<table border=\"1\" class=\"dataframe\">\n",
       "  <thead>\n",
       "    <tr style=\"text-align: right;\">\n",
       "      <th></th>\n",
       "      <th>Purchase Count</th>\n",
       "      <th>Avg Purchase Price</th>\n",
       "      <th>Total Purchase value</th>\n",
       "    </tr>\n",
       "    <tr>\n",
       "      <th>SN</th>\n",
       "      <th></th>\n",
       "      <th></th>\n",
       "      <th></th>\n",
       "    </tr>\n",
       "  </thead>\n",
       "  <tbody>\n",
       "    <tr>\n",
       "      <th>Lisosia93</th>\n",
       "      <td>5</td>\n",
       "      <td>$ 3.79</td>\n",
       "      <td>$ 18.96</td>\n",
       "    </tr>\n",
       "    <tr>\n",
       "      <th>Idastidru52</th>\n",
       "      <td>4</td>\n",
       "      <td>$ 3.86</td>\n",
       "      <td>$ 15.45</td>\n",
       "    </tr>\n",
       "    <tr>\n",
       "      <th>Chamjask73</th>\n",
       "      <td>3</td>\n",
       "      <td>$ 4.61</td>\n",
       "      <td>$ 13.83</td>\n",
       "    </tr>\n",
       "    <tr>\n",
       "      <th>Iral74</th>\n",
       "      <td>4</td>\n",
       "      <td>$ 3.40</td>\n",
       "      <td>$ 13.62</td>\n",
       "    </tr>\n",
       "    <tr>\n",
       "      <th>Iskadarya95</th>\n",
       "      <td>3</td>\n",
       "      <td>$ 4.37</td>\n",
       "      <td>$ 13.10</td>\n",
       "    </tr>\n",
       "  </tbody>\n",
       "</table>\n",
       "</div>"
      ],
      "text/plain": [
       "             Purchase Count Avg Purchase Price Total Purchase value\n",
       "SN                                                                 \n",
       "Lisosia93                 5             $ 3.79              $ 18.96\n",
       "Idastidru52               4             $ 3.86              $ 15.45\n",
       "Chamjask73                3             $ 4.61              $ 13.83\n",
       "Iral74                    4             $ 3.40              $ 13.62\n",
       "Iskadarya95               3             $ 4.37              $ 13.10"
      ]
     },
     "execution_count": 12,
     "metadata": {},
     "output_type": "execute_result"
    }
   ],
   "source": [
    "# Copy original_purchase_df to new one\n",
    "spenders_df = original_purchase_df.copy()\n",
    "\n",
    "# find purchase value for each player \n",
    "spend_total_purchase_value = spenders_df.groupby('SN')['Price'].sum()\n",
    "\n",
    "# find a count of purchasing items for each player\n",
    "spend_purchase_count = spenders_df.groupby('SN')['Purchase ID'].count()\n",
    "\n",
    "# find average purchase price for each players\n",
    "avg_purchase_price = spend_total_purchase_value / spend_purchase_count\n",
    "\n",
    "# create a final df\n",
    "summary_spenders_df = pd.DataFrame({'Purchase Count': spend_purchase_count\n",
    "                                        , 'Avg Purchase Price': avg_purchase_price \n",
    "                                        , 'Total Purchase value': spend_total_purchase_value})\n",
    "\n",
    "\n",
    "# Sort df by Total Purchase value column \n",
    "summary_spenders_df = summary_spenders_df.sort_values(['Total Purchase value'], ascending=False)\n",
    "\n",
    "for col in summary_spenders_df.columns:\n",
    "    if col != 'Purchase Count':\n",
    "        summary_spenders_df[col] = summary_spenders_df[col].map(\"${: .2f}\".format)\n",
    "\n",
    "# get top 5 spenders (5 is default for .head())\n",
    "summary_spenders_df.head()"
   ]
  },
  {
   "cell_type": "markdown",
   "metadata": {},
   "source": [
    "## Most Popular Items\n",
    "\n",
    "Identify the 5 most popular items by purchase count, then list (in a table):\n",
    "\n",
    "* Item ID\n",
    "* Item Name\n",
    "* Purchase Count\n",
    "* Item Price\n",
    "* Total Purchase Value"
   ]
  },
  {
   "cell_type": "code",
   "execution_count": 13,
   "metadata": {},
   "outputs": [
    {
     "data": {
      "text/html": [
       "<div>\n",
       "<style scoped>\n",
       "    .dataframe tbody tr th:only-of-type {\n",
       "        vertical-align: middle;\n",
       "    }\n",
       "\n",
       "    .dataframe tbody tr th {\n",
       "        vertical-align: top;\n",
       "    }\n",
       "\n",
       "    .dataframe thead th {\n",
       "        text-align: right;\n",
       "    }\n",
       "</style>\n",
       "<table border=\"1\" class=\"dataframe\">\n",
       "  <thead>\n",
       "    <tr style=\"text-align: right;\">\n",
       "      <th></th>\n",
       "      <th></th>\n",
       "      <th>Purchase Count</th>\n",
       "      <th>Item Price</th>\n",
       "      <th>Total Purchase Value</th>\n",
       "    </tr>\n",
       "    <tr>\n",
       "      <th>Item ID</th>\n",
       "      <th>Item Name</th>\n",
       "      <th></th>\n",
       "      <th></th>\n",
       "      <th></th>\n",
       "    </tr>\n",
       "  </thead>\n",
       "  <tbody>\n",
       "    <tr>\n",
       "      <th>92</th>\n",
       "      <th>Final Critic</th>\n",
       "      <td>13</td>\n",
       "      <td>$ 4.61</td>\n",
       "      <td>$ 59.99</td>\n",
       "    </tr>\n",
       "    <tr>\n",
       "      <th>178</th>\n",
       "      <th>Oathbreaker, Last Hope of the Breaking Storm</th>\n",
       "      <td>12</td>\n",
       "      <td>$ 4.23</td>\n",
       "      <td>$ 50.76</td>\n",
       "    </tr>\n",
       "    <tr>\n",
       "      <th>145</th>\n",
       "      <th>Fiery Glass Crusader</th>\n",
       "      <td>9</td>\n",
       "      <td>$ 4.58</td>\n",
       "      <td>$ 41.22</td>\n",
       "    </tr>\n",
       "    <tr>\n",
       "      <th>132</th>\n",
       "      <th>Persuasion</th>\n",
       "      <td>9</td>\n",
       "      <td>$ 3.22</td>\n",
       "      <td>$ 28.99</td>\n",
       "    </tr>\n",
       "    <tr>\n",
       "      <th>108</th>\n",
       "      <th>Extraction, Quickblade Of Trembling Hands</th>\n",
       "      <td>9</td>\n",
       "      <td>$ 3.53</td>\n",
       "      <td>$ 31.77</td>\n",
       "    </tr>\n",
       "  </tbody>\n",
       "</table>\n",
       "</div>"
      ],
      "text/plain": [
       "                                                      Purchase Count  \\\n",
       "Item ID Item Name                                                      \n",
       "92      Final Critic                                              13   \n",
       "178     Oathbreaker, Last Hope of the Breaking Storm              12   \n",
       "145     Fiery Glass Crusader                                       9   \n",
       "132     Persuasion                                                 9   \n",
       "108     Extraction, Quickblade Of Trembling Hands                  9   \n",
       "\n",
       "                                                     Item Price  \\\n",
       "Item ID Item Name                                                 \n",
       "92      Final Critic                                     $ 4.61   \n",
       "178     Oathbreaker, Last Hope of the Breaking Storm     $ 4.23   \n",
       "145     Fiery Glass Crusader                             $ 4.58   \n",
       "132     Persuasion                                       $ 3.22   \n",
       "108     Extraction, Quickblade Of Trembling Hands        $ 3.53   \n",
       "\n",
       "                                                     Total Purchase Value  \n",
       "Item ID Item Name                                                          \n",
       "92      Final Critic                                              $ 59.99  \n",
       "178     Oathbreaker, Last Hope of the Breaking Storm              $ 50.76  \n",
       "145     Fiery Glass Crusader                                      $ 41.22  \n",
       "132     Persuasion                                                $ 28.99  \n",
       "108     Extraction, Quickblade Of Trembling Hands                 $ 31.77  "
      ]
     },
     "execution_count": 13,
     "metadata": {},
     "output_type": "execute_result"
    }
   ],
   "source": [
    "popular_items_df = original_purchase_df.copy()\n",
    "popular_items_df = popular_items_df[['Item ID', 'Item Name', 'Price']]\n",
    "popular_items_df = popular_items_df.groupby(['Item ID', 'Item Name'])\n",
    "\n",
    "# Calculate purchase count, avg item price, total purchase value \n",
    "popular_purchase_count = popular_items_df['Item ID'].count()\n",
    "item_price = popular_items_df['Price'].mean()\n",
    "total_purchase_value = popular_items_df['Price'].sum()\n",
    "\n",
    "# Create final df\n",
    "summary_most_popular_items_df = pd.DataFrame({'Purchase Count': popular_purchase_count\n",
    "                                            ,'Item Price': item_price\n",
    "                                            ,'Total Purchase Value': total_purchase_value})\n",
    "\n",
    "# Sort values\n",
    "sort_summary_most_popular_items_df = summary_most_popular_items_df.sort_values(['Purchase Count'], ascending=False)\n",
    "\n",
    "for col in sort_summary_most_popular_items_df.columns:\n",
    "    if col != 'Purchase Count':\n",
    "        sort_summary_most_popular_items_df[col] = sort_summary_most_popular_items_df[col].map(\"${: .2f}\".format)\n",
    "        \n",
    "sort_summary_most_popular_items_df.head()"
   ]
  },
  {
   "cell_type": "markdown",
   "metadata": {},
   "source": [
    "## Most Profitable Items\n",
    "\n",
    "Identify the 5 most profitable items by total purchase value, then list (in a table):\n",
    "\n",
    "* Item ID\n",
    "* Item Name\n",
    "* Purchase Count\n",
    "* Item Price\n",
    "* Total Purchase Value"
   ]
  },
  {
   "cell_type": "code",
   "execution_count": 14,
   "metadata": {},
   "outputs": [
    {
     "data": {
      "text/html": [
       "<div>\n",
       "<style scoped>\n",
       "    .dataframe tbody tr th:only-of-type {\n",
       "        vertical-align: middle;\n",
       "    }\n",
       "\n",
       "    .dataframe tbody tr th {\n",
       "        vertical-align: top;\n",
       "    }\n",
       "\n",
       "    .dataframe thead th {\n",
       "        text-align: right;\n",
       "    }\n",
       "</style>\n",
       "<table border=\"1\" class=\"dataframe\">\n",
       "  <thead>\n",
       "    <tr style=\"text-align: right;\">\n",
       "      <th></th>\n",
       "      <th></th>\n",
       "      <th>Purchase Count</th>\n",
       "      <th>Item Price</th>\n",
       "      <th>Total Purchase Value</th>\n",
       "    </tr>\n",
       "    <tr>\n",
       "      <th>Item ID</th>\n",
       "      <th>Item Name</th>\n",
       "      <th></th>\n",
       "      <th></th>\n",
       "      <th></th>\n",
       "    </tr>\n",
       "  </thead>\n",
       "  <tbody>\n",
       "    <tr>\n",
       "      <th>92</th>\n",
       "      <th>Final Critic</th>\n",
       "      <td>13</td>\n",
       "      <td>$ 4.61</td>\n",
       "      <td>$ 59.99</td>\n",
       "    </tr>\n",
       "    <tr>\n",
       "      <th>178</th>\n",
       "      <th>Oathbreaker, Last Hope of the Breaking Storm</th>\n",
       "      <td>12</td>\n",
       "      <td>$ 4.23</td>\n",
       "      <td>$ 50.76</td>\n",
       "    </tr>\n",
       "    <tr>\n",
       "      <th>82</th>\n",
       "      <th>Nirvana</th>\n",
       "      <td>9</td>\n",
       "      <td>$ 4.90</td>\n",
       "      <td>$ 44.10</td>\n",
       "    </tr>\n",
       "    <tr>\n",
       "      <th>145</th>\n",
       "      <th>Fiery Glass Crusader</th>\n",
       "      <td>9</td>\n",
       "      <td>$ 4.58</td>\n",
       "      <td>$ 41.22</td>\n",
       "    </tr>\n",
       "    <tr>\n",
       "      <th>103</th>\n",
       "      <th>Singed Scalpel</th>\n",
       "      <td>8</td>\n",
       "      <td>$ 4.35</td>\n",
       "      <td>$ 34.80</td>\n",
       "    </tr>\n",
       "  </tbody>\n",
       "</table>\n",
       "</div>"
      ],
      "text/plain": [
       "                                                      Purchase Count  \\\n",
       "Item ID Item Name                                                      \n",
       "92      Final Critic                                              13   \n",
       "178     Oathbreaker, Last Hope of the Breaking Storm              12   \n",
       "82      Nirvana                                                    9   \n",
       "145     Fiery Glass Crusader                                       9   \n",
       "103     Singed Scalpel                                             8   \n",
       "\n",
       "                                                     Item Price  \\\n",
       "Item ID Item Name                                                 \n",
       "92      Final Critic                                     $ 4.61   \n",
       "178     Oathbreaker, Last Hope of the Breaking Storm     $ 4.23   \n",
       "82      Nirvana                                          $ 4.90   \n",
       "145     Fiery Glass Crusader                             $ 4.58   \n",
       "103     Singed Scalpel                                   $ 4.35   \n",
       "\n",
       "                                                     Total Purchase Value  \n",
       "Item ID Item Name                                                          \n",
       "92      Final Critic                                              $ 59.99  \n",
       "178     Oathbreaker, Last Hope of the Breaking Storm              $ 50.76  \n",
       "82      Nirvana                                                   $ 44.10  \n",
       "145     Fiery Glass Crusader                                      $ 41.22  \n",
       "103     Singed Scalpel                                            $ 34.80  "
      ]
     },
     "execution_count": 14,
     "metadata": {},
     "output_type": "execute_result"
    }
   ],
   "source": [
    "summary_most_profitable_items_df = summary_most_popular_items_df.sort_values(['Total Purchase Value'], ascending=False)\n",
    "\n",
    "for col in summary_most_profitable_items_df.columns:\n",
    "    if col != 'Purchase Count':\n",
    "        summary_most_profitable_items_df[col] = summary_most_profitable_items_df[col].map(\"${: .2f}\".format)\n",
    "\n",
    "summary_most_profitable_items_df.head()"
   ]
  }
 ],
 "metadata": {
  "kernelspec": {
   "display_name": "Python 3",
   "language": "python",
   "name": "python3"
  },
  "language_info": {
   "codemirror_mode": {
    "name": "ipython",
    "version": 3
   },
   "file_extension": ".py",
   "mimetype": "text/x-python",
   "name": "python",
   "nbconvert_exporter": "python",
   "pygments_lexer": "ipython3",
   "version": "3.8.5"
  }
 },
 "nbformat": 4,
 "nbformat_minor": 4
}
